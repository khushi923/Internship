{
 "cells": [
  {
   "cell_type": "code",
   "execution_count": 2,
   "id": "58fedebb-4818-42a7-9178-79532e695842",
   "metadata": {},
   "outputs": [
    {
     "name": "stdout",
     "output_type": "stream",
     "text": [
      "Requirement already satisfied: pandas in c:\\users\\nitu singh\\appdata\\local\\programs\\python\\python313\\lib\\site-packages (2.2.3)\n",
      "Requirement already satisfied: numpy>=1.26.0 in c:\\users\\nitu singh\\appdata\\local\\programs\\python\\python313\\lib\\site-packages (from pandas) (2.2.4)\n",
      "Requirement already satisfied: python-dateutil>=2.8.2 in c:\\users\\nitu singh\\appdata\\local\\programs\\python\\python313\\lib\\site-packages (from pandas) (2.9.0.post0)\n",
      "Requirement already satisfied: pytz>=2020.1 in c:\\users\\nitu singh\\appdata\\local\\programs\\python\\python313\\lib\\site-packages (from pandas) (2025.2)\n",
      "Requirement already satisfied: tzdata>=2022.7 in c:\\users\\nitu singh\\appdata\\local\\programs\\python\\python313\\lib\\site-packages (from pandas) (2025.2)\n",
      "Requirement already satisfied: six>=1.5 in c:\\users\\nitu singh\\appdata\\local\\programs\\python\\python313\\lib\\site-packages (from python-dateutil>=2.8.2->pandas) (1.17.0)\n"
     ]
    },
    {
     "name": "stderr",
     "output_type": "stream",
     "text": [
      "\n",
      "[notice] A new release of pip is available: 24.3.1 -> 25.0.1\n",
      "[notice] To update, run: python.exe -m pip install --upgrade pip\n"
     ]
    },
    {
     "name": "stdout",
     "output_type": "stream",
     "text": [
      "Requirement already satisfied: numpy in c:\\users\\nitu singh\\appdata\\local\\programs\\python\\python313\\lib\\site-packages (2.2.4)\n"
     ]
    },
    {
     "name": "stderr",
     "output_type": "stream",
     "text": [
      "\n",
      "[notice] A new release of pip is available: 24.3.1 -> 25.0.1\n",
      "[notice] To update, run: python.exe -m pip install --upgrade pip\n"
     ]
    }
   ],
   "source": [
    "!pip install pandas\n",
    "!pip install numpy"
   ]
  },
  {
   "cell_type": "code",
   "execution_count": 5,
   "id": "e8bba537-0f71-4e6b-ac8d-5cb2e727c121",
   "metadata": {},
   "outputs": [
    {
     "name": "stdout",
     "output_type": "stream",
     "text": [
      "Scraped page 1\n",
      "Scraped page 2\n",
      "Scraped page 3\n",
      "Scraped page 4\n",
      "Scraped page 5\n",
      "Scraped page 6\n",
      "Scraped page 7\n",
      "Scraped page 8\n",
      "Scraped page 9\n",
      "Scraped page 10\n",
      "Scraped page 11\n",
      "Scraped page 12\n",
      "Scraped page 13\n",
      "Scraped page 14\n",
      "Scraped page 15\n",
      "Scraped page 16\n",
      "Scraped page 17\n",
      "Scraped page 18\n",
      "Scraped page 19\n",
      "Scraped page 20\n",
      "Scraped page 21\n",
      "Scraped page 22\n",
      "Scraped page 23\n",
      "Scraped page 24\n",
      "Scraped page 25\n",
      "Scraped page 26\n",
      "Scraped page 27\n",
      "Scraped page 28\n",
      "Scraped page 29\n",
      "Scraped page 30\n",
      "Scraped page 31\n",
      "Scraped page 32\n",
      "Scraped page 33\n",
      "Scraped page 34\n",
      "Scraped page 35\n",
      "Scraped page 36\n",
      "Scraped page 37\n",
      "Scraped page 38\n",
      "Scraped page 39\n",
      "Scraped page 40\n",
      "Scraped page 41\n",
      "Scraped page 42\n",
      "Scraped page 43\n",
      "Scraped page 44\n",
      "Scraped page 45\n",
      "Scraped page 46\n",
      "Scraped page 47\n",
      "Scraped page 48\n",
      "Scraped page 49\n",
      "Scraped page 50\n",
      "Scraped page 51\n",
      "Scraped page 52\n",
      "Scraped page 53\n",
      "Scraped page 54\n",
      "Scraped page 55\n",
      "Scraped page 56\n",
      "Scraped page 57\n",
      "Scraped page 58\n",
      "Scraped page 59\n",
      "Scraped page 60\n",
      "Scraped page 61\n",
      "Scraped page 62\n",
      "Scraped page 63\n",
      "Scraped page 64\n",
      "Scraped page 65\n",
      "Scraped page 66\n",
      "Scraped page 67\n",
      "Scraped page 68\n",
      "Scraped page 69\n",
      "Scraped page 70\n",
      "Scraped page 71\n",
      "Scraped page 72\n",
      "Scraped page 73\n",
      "Scraped page 74\n",
      "Scraped page 75\n",
      "Scraped page 76\n",
      "Scraped page 77\n",
      "Scraped page 78\n",
      "Scraped page 79\n",
      "Scraped page 80\n",
      "Scraped page 81\n",
      "Scraped page 82\n",
      "Scraped page 83\n",
      "Scraped page 84\n",
      "Scraped page 85\n",
      "Scraped page 86\n",
      "Scraped page 87\n",
      "Scraped page 88\n",
      "Scraped page 89\n",
      "Scraped page 90\n",
      "Scraped page 91\n",
      "Scraped page 92\n",
      "Scraped page 93\n",
      "Scraped page 94\n",
      "Scraped page 95\n",
      "Scraped page 96\n",
      "Scraped page 97\n",
      "Scraped page 98\n",
      "Scraped page 99\n",
      "Scraped page 100\n",
      "Quotes saved to quotes.csv successfully!\n"
     ]
    }
   ],
   "source": [
    "import requests\n",
    "from bs4 import BeautifulSoup\n",
    "import csv\n",
    "\n",
    "# Base URL\n",
    "base_url = \"http://quotes.toscrape.com\"\n",
    "\n",
    "# File to store data\n",
    "filename = \"quotes.csv\"\n",
    "\n",
    "# Open CSV file to write\n",
    "with open(filename, \"w\", newline=\"\", encoding=\"utf-8\") as file:\n",
    "    writer = csv.writer(file)\n",
    "    writer.writerow([\"Quote\", \"Author\"])  # Header\n",
    "\n",
    "    for page in range(1, 101):  # Scrape up to 100 pages\n",
    "        url = f\"{base_url}/page/{page}/\"\n",
    "        response = requests.get(url)\n",
    "\n",
    "        # Stop if the page doesn't exist\n",
    "        if response.status_code != 200:\n",
    "            print(f\"Page {page} not found. Stopping...\")\n",
    "            break\n",
    "\n",
    "        # Parse the page\n",
    "        soup = BeautifulSoup(response.text, \"html.parser\")\n",
    "\n",
    "        # Find quotes and authors\n",
    "        quotes = soup.find_all(\"span\", class_=\"text\")\n",
    "        authors = soup.find_all(\"small\", class_=\"author\")\n",
    "\n",
    "        # Write to CSV\n",
    "        for quote, author in zip(quotes, authors):\n",
    "            writer.writerow([quote.get_text(), author.get_text()])\n",
    "\n",
    "        print(f\"Scraped page {page}\")\n",
    "\n",
    "print(f\"Quotes saved to {filename} successfully!\")\n"
   ]
  },
  {
   "cell_type": "code",
   "execution_count": null,
   "id": "2b51a8b5-1388-42a1-90bf-edd16d050ac3",
   "metadata": {},
   "outputs": [],
   "source": []
  }
 ],
 "metadata": {
  "kernelspec": {
   "display_name": "Python 3 (ipykernel)",
   "language": "python",
   "name": "python3"
  },
  "language_info": {
   "codemirror_mode": {
    "name": "ipython",
    "version": 3
   },
   "file_extension": ".py",
   "mimetype": "text/x-python",
   "name": "python",
   "nbconvert_exporter": "python",
   "pygments_lexer": "ipython3",
   "version": "3.13.2"
  }
 },
 "nbformat": 4,
 "nbformat_minor": 5
}
